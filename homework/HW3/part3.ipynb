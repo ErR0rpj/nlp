{
 "cells": [
  {
   "cell_type": "markdown",
   "metadata": {},
   "source": [
    "# NLP Assignment 3\n",
    "Created by Prof. [Mohammad M. Ghassemi](https://ghassemi.xyz)\n",
    "\n",
    "Submitted by: <span style=\"color:red\"> INSERT YOUR NAME HERE </span>\n",
    "\n",
    "In collaboration with: <span style=\"color:red\"> INSERT YOUR (OPTIONAL) HOMEWORK PARTNER'S NAME HERE </span>\n",
    "\n",
    "\n",
    "<hr> "
   ]
  },
  {
   "cell_type": "code",
   "execution_count": 1,
   "metadata": {},
   "outputs": [
    {
     "name": "stderr",
     "output_type": "stream",
     "text": [
      "[nltk_data] Downloading package punkt to /Users/ghamut/nltk_data...\n",
      "[nltk_data]   Package punkt is already up-to-date!\n",
      "[nltk_data] Downloading package punkt to /Users/ghamut/nltk_data...\n",
      "[nltk_data]   Package punkt is already up-to-date!\n"
     ]
    }
   ],
   "source": [
    "import importlib\n",
    "from materials.code import utils\n",
    "importlib.reload(utils)\n",
    "\n",
    "# IMPORT SOME BASIC TOOLS:\n",
    "from pprint import pprint\n",
    "import pyarrow\n",
    "import matplotlib\n",
    "import matplotlib.pyplot as plt\n",
    "import numpy as np\n",
    "\n",
    "import json"
   ]
  },
  {
   "cell_type": "markdown",
   "metadata": {},
   "source": [
    "<hr>\n",
    "\n",
    "# Part 3: Neural Networks\n",
    "\n"
   ]
  },
  {
   "cell_type": "markdown",
   "metadata": {},
   "source": [
    "In the previous section, we wrote a `sigmoid` function that took a given value of `x`, `b` and `m`, to generate a single evaluation of the sigmoid function. But our previous implementation was certainly not the most flexible or generalizable way to write a sigmoid if we want to use it for general purpose machine learning tasks. So, let's begin this section by rewriting this sigmoid so that it's more compact and flexible:"
   ]
  },
  {
   "cell_type": "code",
   "execution_count": 3,
   "metadata": {},
   "outputs": [],
   "source": [
    "#------------------------------------------------------\n",
    "# A more general purpose signmoid\n",
    "#------------------------------------------------------\n",
    "def sigmoid(beta, X):\n",
    "    lin = np.dot(X, beta[1:]) + beta[0]\n",
    "    return 1/(1 + np.exp(-(lin)))"
   ]
  },
  {
   "cell_type": "markdown",
   "metadata": {},
   "source": [
    "<br><br> This new `sigmoid` function is more flexible because it allows us to pass an entire data matrix $X$ with $m$ rows and $n$ columns, and a set of $n+1$ paramters ($\\beta_{i:n+1}$) and will return the result of the simoid applied to each of the $m$ rows in $X$. Note that in the above implmentation $\\beta_0$ is assumed to be the intercept term in the linear equation.\n",
    "\n",
    "### Stacking sigmoids for enhanced flexibility\n",
    "A simple sigmoid is a decent model when we can assume that there is a monotonic relationship between our input and output variables. Take the general relationship between height and age for instance; it's safe to assume ( for the most part ), that a one unit increase in age will always have a positive effect on height. Obviously, the magnitude of that positive effect will be larger for a teenager than for an adult, but it's still fair to make the assumption that the relationship will always be always positive.\n",
    "\n",
    "There are many kinds of modeling problems, however, where the relationship between the input and the output is clearly not monotonic. Consider for instance, if I wanted to predict your mood (good or bad), given the number of pizza slices you've consumed for your lunch. For a one unit increase in pizza, the probability of your mood being good would probably increase but only up until you become full. After that, a one unit increase in the pizza consumption would decrease the probability of your mood being good (and might require some Pepto Bismol as well). A simple logistic regression is not capable of modeling this more nuanced kind of relationship. We can tune the paramters as much as we want, but the model will always look like a sigmoid! \n",
    "\n",
    "One path we could take to solve the pizza-mood problem it to write out a brand new model. But what might this model look like? It will definetly need sigmoid-like properties because there will need to be some areas where it increases, some other areas where it decreases and yet other areas where it is flat. So, one sensible thing to try might be a linear combination of sigmoids (a weighted average, for instance):\n",
    "\n",
    "$$\\hat{y} = w_0 + w_1\\sigma_1(x) + w_2\\sigma_2(x) $$\n",
    "\n",
    "Where the $w$ terms refer to the weight we'll apply when combining the sigmoids, and the $\\sigma(x)$ is just shorthand for the sigmoid equation. The only problem with this form is that we'll have to be careful about how we set those weights ($w_{0:2}$) or the predicted value of $\\hat{y}$ could fall outside the range of 0 and 1. How can we solve this? If only we had some mathematical function that could constrain the values between 0 and 1... like **another sigmoid**:\n",
    "\n",
    "$$\\hat{y} = \\sigma(w_0 + w_1\\sigma_1(x) + w_2\\sigma_2(x))$$\n",
    "\n",
    "Let's try it out with some random values of $w$ and $\\beta$ to see if we get any shapes that look feasible for the pizza-mood problem:"
   ]
  },
  {
   "cell_type": "code",
   "execution_count": 207,
   "metadata": {},
   "outputs": [
    {
     "data": {
      "image/png": "[encoded data removed]",
      "text/plain": [
       "<Figure size 1152x432 with 1 Axes>"
      ]
     },
     "metadata": {
      "needs_background": "light"
     },
     "output_type": "display_data"
    }
   ],
   "source": [
    "plt.figure(figsize = (16,6))\n",
    "\n",
    "# Initialize some random value for some data X and paramters beta\n",
    "X  = np.random.uniform(low= -100, high = 100, size = (1000,1))\n",
    "\n",
    "# For 5 random models\n",
    "for x in range(5):\n",
    "    # For some random values of betas\n",
    "    beta1  = np.random.normal(size = (np.shape(X)[1] + 1,1))\n",
    "    beta2  = np.random.normal(size = (np.shape(X)[1] + 1,1))\n",
    "\n",
    "    # Pack the sigmoids into a new `X` \n",
    "    X2  = np.concatenate((sigmoid(beta1 ,X),\n",
    "                          sigmoid(beta2 ,X)),axis=1)\n",
    "      \n",
    "    # For some random values of w, create yhat.\n",
    "    num_ws = np.shape(X2)[1] + 1\n",
    "    ws     = np.random.normal(size = (np.shape(X2)[1] + 1,1))\n",
    "    yhat   = sigmoid(ws ,X2) \n",
    "    \n",
    "    # Print it\n",
    "    index  = np.argsort(X[:,0])\n",
    "    X      = X[index,:]; \n",
    "    yhat   = yhat[index,:]\n",
    "    plt.plot(X,yhat)\n",
    "    plt.xlabel('X');plt.ylabel('yhat')\n",
    "plt.show()\n"
   ]
  },
  {
   "cell_type": "markdown",
   "metadata": {},
   "source": [
    "<br><br>With a litte bit of tuning (through gradient descent perhaps) that orange line looks like it might work for the pizza-mood problem we mentioned earlier! Furthermore, it looks like there are a bunch of other shapes that are possible when we take a sigmoid of other sigmoids.\n",
    "\n",
    "### Training Models Using PyTorch"
   ]
  },
  {
   "cell_type": "markdown",
   "metadata": {},
   "source": [
    "In the previous section, we observed that two **layers** of sigmoids (*sigmoid of sigmoids*) provided a more flexible way to model the relationship between $X$ and $y$; but even so, one might feel that the lines were still too rigid. What if we want them to be even more flexible? Well, if two layers of sigmoids (*a sigmoid of sigmoids*) provided some flexibility, it stands to reason that three layers (*a sigmoid of sigmoids of sigmoids*) would be even more flexible! Furthermore, we do not have to limit ourselves to using just two sigmoids **nodes** per-layer, we could add more nodes too. It definetly feels like these models could, with enough layers and nodes, approximate any relationship between $X$ and $y$. Such a \"smart\" method needs a smart name - let's call them **neural networks**. \n",
    "\n",
    "Now that we understand how to build a Neural Network from scratch, let's work on getting some practical experience building Neural Networks with existing toolkits. There are two popular python packages for most neural network purposes: [Keras](https://keras.io/), and [PyTorch](https://pytorch.org/). The two packages support simmilar functionality, but PyTorch is a little easier to learn if you're a beginner (or so I'm told). Let's begin by importing Pytorch."
   ]
  },
  {
   "cell_type": "code",
   "execution_count": 2,
   "metadata": {},
   "outputs": [],
   "source": [
    "import torch"
   ]
  },
  {
   "cell_type": "markdown",
   "metadata": {},
   "source": [
    "Neural Network Libraries like Pytorch provide a variety of tools to help us more build existing and novel neural networks from the ground-up. For instance, we can use `torch` to easilly compute gradients of functions:"
   ]
  },
  {
   "cell_type": "code",
   "execution_count": 3,
   "metadata": {},
   "outputs": [
    {
     "data": {
      "image/png": "[encoded data removed]",
      "text/plain": [
       "<Figure size 432x288 with 1 Axes>"
      ]
     },
     "metadata": {
      "needs_background": "light"
     },
     "output_type": "display_data"
    }
   ],
   "source": [
    "grad, xnp, ynp = [], [],[]\n",
    "\n",
    "#------------------------------------------------\n",
    "# Initialize some paramters of a model\n",
    "#------------------------------------------------\n",
    "b1 =  torch.tensor(1.0, requires_grad=True)\n",
    "m1 =  torch.tensor(1.0, requires_grad=True)\n",
    "\n",
    "#------------------------------------------------\n",
    "# For some various values of x\n",
    "#------------------------------------------------\n",
    "X = np.linspace(-10,10,100)\n",
    "for x in X:\n",
    "    #------------------------------------------------\n",
    "    # Convert x into a torch tensor\n",
    "    #------------------------------------------------\n",
    "    x =  torch.tensor(x, requires_grad=True)\n",
    "\n",
    "    #------------------------------------------------\n",
    "    # compute y using x and the paramters m1,m2,b1,b2\n",
    "    #------------------------------------------------\n",
    "    y =  1 / (1 + torch.exp(-(m1*x+b1)))\n",
    "    \n",
    "    #------------------------------------------------\n",
    "    # calculate the gradient in y with respect to x\n",
    "    # using the back-propagation algorithm\n",
    "    #------------------------------------------------\n",
    "    y.backward()  # ∂y/∂x = 2   \n",
    "\n",
    "    #------------------------------------------------\n",
    "    # Store the gradients\n",
    "    #------------------------------------------------    \n",
    "    grad.append( x.grad.numpy() )\n",
    "    xnp.append( x.detach().numpy() )\n",
    "    ynp.append( y.detach().numpy() )\n",
    "    \n",
    "\n",
    "#------------------------------------------------\n",
    "# Plot the results\n",
    "#------------------------------------------------   \n",
    "plt.plot(xnp , ynp , label='y = $\\sigma$(x)')\n",
    "plt.plot(xnp ,grad, label='∂y/∂x')\n",
    "plt.title('A sigmoid and its derivative')   \n",
    "plt.xlabel('x'), plt.ylabel('y')\n",
    "plt.legend()\n",
    "plt.show()"
   ]
  },
  {
   "cell_type": "markdown",
   "metadata": {},
   "source": [
    "<br><br> In the code block above, the `y.backward()` computes the gradient in `y`, with respect to the paramters (`m1`,`b1`), and our input `x` using a technique called [back-propogation](https://www.youtube.com/watch?v=Ilg3gGewQ5U&ab_channel=3Blue1Brown). As you may recall from earlier in the tutorial, once we have the gradients of a loss function with respect to some paramters, we can go about optimizing those paramters!  If you've understood everything we've done in the tutorial up to this point the syntax of `torch` will be relatively straight forward; let's look at an examples:"
   ]
  },
  {
   "cell_type": "code",
   "execution_count": 4,
   "metadata": {},
   "outputs": [
    {
     "data": {
      "text/plain": [
       "<torch.autograd.grad_mode.set_grad_enabled at 0x1490d8080>"
      ]
     },
     "execution_count": 4,
     "metadata": {},
     "output_type": "execute_result"
    }
   ],
   "source": [
    "import torch\n",
    "import torch.nn as nn\n",
    "import torch.optim as optim\n",
    "import torch.nn.functional as F\n",
    "from torch.autograd import grad\n",
    "torch.set_grad_enabled(True)"
   ]
  },
  {
   "cell_type": "markdown",
   "metadata": {},
   "source": [
    "<br><br>First, let's recreate the logistic regression model in Pytorch notation:"
   ]
  },
  {
   "cell_type": "code",
   "execution_count": 5,
   "metadata": {},
   "outputs": [],
   "source": [
    "#------------------------------------------------\n",
    "# Define a Model\n",
    "#------------------------------------------------\n",
    "class LogisticRegression(nn.Module): \n",
    "    \n",
    "    #------------------------------------------------\n",
    "    # Torch Requires an init function where the\n",
    "    # paramters of the model are specified\n",
    "    #------------------------------------------------\n",
    "    def __init__(self, n_inputs, n_outputs):\n",
    "        \n",
    "        # This line calls the init function of \"nn.Module\"; \n",
    "        # you must always do this in any \"nn.Module\"\n",
    "        super(LogisticRegression, self).__init__()\n",
    "        \n",
    "        # Indicates that our model paramters are a \n",
    "        # linear function that maps n inputs to n_outputs\n",
    "        self.linear  = nn.Linear(n_inputs, n_outputs)\n",
    "        \n",
    "    #------------------------------------------------\n",
    "    # Torch also Requires an forward function that specifies \n",
    "    # what to do with the output (e.g. apply a sigmoid).\n",
    "    #------------------------------------------------\n",
    "    def forward(self, x):\n",
    "        \n",
    "        # Indicates that we must pass the linear component of the \n",
    "        # model (mx + b ) through a sigmoid before returning the results\n",
    "        return torch.sigmoid( self.linear(x) )"
   ]
  },
  {
   "cell_type": "markdown",
   "metadata": {},
   "source": [
    "<br><br>We'll also want a way to `train` and `evaluate` our model; these don't come standard with Pytorch, so I've written them below:"
   ]
  },
  {
   "cell_type": "code",
   "execution_count": 6,
   "metadata": {},
   "outputs": [],
   "source": [
    "#------------------------------------------------\n",
    "# Define Training Function\n",
    "#------------------------------------------------  \n",
    "def train_model(model, x, y, hyperparams):\n",
    "\n",
    "    loss_function = hyperparams['loss_function']\n",
    "    optimizer     = torch.optim.SGD(model.parameters(), hyperparams['learning_rate']) \n",
    "    model.train()\n",
    "        \n",
    "    # Itererate over our data as many times as there are `epochs`\n",
    "    losses = []\n",
    "    for e in range(hyperparams['epochs']):\n",
    "        \n",
    "        #Clear out the gradients from the last `epoch`:\n",
    "        model.zero_grad()\n",
    "\n",
    "        # Compute the output of the model, yhat, given x\n",
    "        yhat = model(x)\n",
    "\n",
    "        # Compute the loss\n",
    "        loss = loss_function(yhat, y)\n",
    "        \n",
    "        # Compute the gradient in the loss with respect to the parameters\n",
    "        loss.backward()\n",
    "\n",
    "        # Adjust the paramter values in the direction of the gradients\n",
    "        optimizer.step()\n",
    "\n",
    "        # Save the loss at each interation for plotting\n",
    "        losses.append(loss.detach().numpy())\n",
    "    \n",
    "    return model, losses\n",
    "\n",
    "#------------------------------------------------\n",
    "# Define Evaluation Function\n",
    "#------------------------------------------------  \n",
    "def eval_model(model, x, y, hyperparams):\n",
    "    model.eval()\n",
    "    yhat     = model(x)\n",
    "    \n",
    "    # calculating accuracy\n",
    "    equals       = torch.round(yhat.squeeze(1)) == y.squeeze(1)\n",
    "    count_equals = torch.sum(equals).numpy()\n",
    "    num_examples = y.shape[0]\n",
    "    accuracy     = count_equals / num_examples\n",
    "    return accuracy\n"
   ]
  },
  {
   "cell_type": "markdown",
   "metadata": {},
   "source": [
    "<br><br> Now let's test out the logistic regression model from Pytorch using the simple dataset from Part 2 of the tutorial. To do that we'll need to cast our data into torch `tensors` first."
   ]
  },
  {
   "cell_type": "code",
   "execution_count": 7,
   "metadata": {},
   "outputs": [],
   "source": [
    "#------------------------------------------------------\n",
    "# Open the Data File\n",
    "#------------------------------------------------------\n",
    "with open('./materials/performance/dummydata.json') as f:\n",
    "    data = json.load(f)\n",
    "    \n",
    "    \n",
    "#------------------------------------------------\n",
    "# Convert our dummy data to torch format\n",
    "#------------------------------------------------\n",
    "x = torch.tensor(data['x']) \n",
    "x = x.to(torch.float)\n",
    "x = x.view(np.shape(data['x'])[0], 1)\n",
    "\n",
    "y = torch.tensor(data['y'])\n",
    "y = y.to(torch.float)\n",
    "y = y.view(np.shape(data['y'])[0] , 1)"
   ]
  },
  {
   "cell_type": "markdown",
   "metadata": {},
   "source": [
    "<br><br> Next, just as we did in earlier components of the tutorial, we'll need to set some hyper-paramter values for the model including the loss function we want to use, the learning rate, and the number of epochs."
   ]
  },
  {
   "cell_type": "code",
   "execution_count": 8,
   "metadata": {},
   "outputs": [],
   "source": [
    "#------------------------------------------------\n",
    "# Define model hyperparamters \n",
    "#------------------------------------------------\n",
    "hyperparams = {}\n",
    "hyperparams['input_dim']      = 1             # Number of columns in the input data 'x'\n",
    "hyperparams['output_dim']     = 1             # Number of targets you want to predict 'y'\n",
    "hyperparams['random_seed']    = 4             # Random seed - this will impact initial weights.\n",
    "hyperparams['loss_function']  = nn.BCELoss()  # loss function  (Binary Cross Entropy Loss = BCELoss )\n",
    "hyperparams['learning_rate']  = 0.01          # learning rate for the optimizer\n",
    "hyperparams['epochs']         = 100000        # number of runs over the training data"
   ]
  },
  {
   "cell_type": "markdown",
   "metadata": {},
   "source": [
    "<br><br> Now, we can train our logistic regression model using Torch!"
   ]
  },
  {
   "cell_type": "code",
   "execution_count": 9,
   "metadata": {},
   "outputs": [
    {
     "data": {
      "text/plain": [
       "Text(0.5, 1.0, 'Logistic Regression with final accuracy: 96.09%')"
      ]
     },
     "execution_count": 9,
     "metadata": {},
     "output_type": "execute_result"
    },
    {
     "data": {
      "image/png": "[encoded data removed]",
      "text/plain": [
       "<Figure size 432x288 with 1 Axes>"
      ]
     },
     "metadata": {
      "needs_background": "light"
     },
     "output_type": "display_data"
    }
   ],
   "source": [
    "#------------------------------------------------\n",
    "# Initiate, Train and Evaluate our model\n",
    "#------------------------------------------------\n",
    "torch.manual_seed(hyperparams['random_seed'])\n",
    "\n",
    "model            = LogisticRegression(hyperparams['input_dim'], hyperparams['output_dim'])\n",
    "model, losses    = train_model( model, x, y, hyperparams)\n",
    "accuracy         = eval_model(  model, x, y, hyperparams)\n",
    "\n",
    "#------------------------------------------------\n",
    "# Plot the performance\n",
    "#------------------------------------------------\n",
    "plt.plot(losses)\n",
    "plt.xlabel('epochs of training')\n",
    "plt.ylabel('loss')\n",
    "plt.title('Logistic Regression with final accuracy: ' + str(100*accuracy)[0:5] + '%')"
   ]
  },
  {
   "cell_type": "markdown",
   "metadata": {},
   "source": [
    "<br><br> The above plot shows the loss as a function of the epochs of training. It seems that most of the gains occur after the first 10,000 or so epochs, and then the loss improves only slightly thereafter. We can sanity check these results by looking at the paramter values to make sure they are close to the values we were seeing in Part 2 (recall that the paramter values in that case were -12 and 1.7)"
   ]
  },
  {
   "cell_type": "code",
   "execution_count": 10,
   "metadata": {},
   "outputs": [
    {
     "name": "stdout",
     "output_type": "stream",
     "text": [
      "----------------------------\n",
      "Model Parameters:\n",
      "----------------------------\n",
      "1.5126332\n",
      "-11.088784\n"
     ]
    }
   ],
   "source": [
    "#------------------------------------------------\n",
    "# Print the Paramters\n",
    "#------------------------------------------------\n",
    "print('----------------------------')\n",
    "print('Model Parameters:')\n",
    "print('----------------------------')\n",
    "for param in model.parameters():    \n",
    "    print(param.detach().squeeze().numpy())"
   ]
  },
  {
   "cell_type": "markdown",
   "metadata": {},
   "source": [
    "<br><br> Those paramter values are pretty close, verifying that we trained this Logistic Regression model correctly!"
   ]
  },
  {
   "cell_type": "markdown",
   "metadata": {},
   "source": [
    "### Feed Forward Neural Networks"
   ]
  },
  {
   "cell_type": "markdown",
   "metadata": {},
   "source": [
    "Now let's try training a multi-layer neural network, also known as a feed-forward network. But in order for us to appriciate their abilities, let's use a slightly more challenging dataset; something where we know the network should beat the logistic regression model. I've created one such dummy dataset below:"
   ]
  },
  {
   "cell_type": "code",
   "execution_count": 11,
   "metadata": {},
   "outputs": [
    {
     "data": {
      "image/png": "[encoded data removed]",
      "text/plain": [
       "<Figure size 432x288 with 1 Axes>"
      ]
     },
     "metadata": {
      "needs_background": "light"
     },
     "output_type": "display_data"
    }
   ],
   "source": [
    "#------------------------------------------------\n",
    "# Creating a Dummy Dataset For Neural Network Training\n",
    "#------------------------------------------------\n",
    "x = np.linspace(-10,10,1000) \n",
    "y = 1- np.round(1/ (1+ np.exp(-x * x + 2 + x + 5 + np.random.normal())))\n",
    "plt.plot(x,y,'.'); plt.xlabel('x'); plt.ylabel('y'); plt.show()"
   ]
  },
  {
   "cell_type": "markdown",
   "metadata": {},
   "source": [
    "<br><br> A a glance, you can tell that a sigmoid is not a goot fit for that data. But neural networks are flexible function approximators, so, as long as we add enough **nodes** and **layers**, we should should be able to fit data well using a neural network. Let's try both models and compare their loss.\n",
    "\n",
    "To begin, we'll need to convert the data we just created into torch's tensor format."
   ]
  },
  {
   "cell_type": "code",
   "execution_count": 12,
   "metadata": {},
   "outputs": [],
   "source": [
    "#------------------------------------------------\n",
    "# Convert our data to torch format\n",
    "#------------------------------------------------\n",
    "x = torch.tensor(x) \n",
    "x = x.to(torch.float)\n",
    "x = x.view(np.shape(x)[0], 1)\n",
    "\n",
    "y = torch.tensor(y)\n",
    "y = y.to(torch.float)\n",
    "y = y.view(np.shape(y)[0] , 1)"
   ]
  },
  {
   "cell_type": "markdown",
   "metadata": {},
   "source": [
    "<br><br> Next, let's define a new model called ShallowNet that consists of 4 layers: 1 input, 2 middle layers (also known as hidden layers) and an output layer:"
   ]
  },
  {
   "cell_type": "code",
   "execution_count": 13,
   "metadata": {},
   "outputs": [],
   "source": [
    "#------------------------------------------------\n",
    "# Define a Model\n",
    "#------------------------------------------------\n",
    "class ShallowNet(nn.Module):\n",
    "    def __init__(self, input_dim, hidden_size, output_dim):  \n",
    "        # Inherited from the parent class nn.Module\n",
    "        super(ShallowNet, self).__init__()                       \n",
    "        self.sigmoid = nn.Sigmoid()                         # sigmoid activation\n",
    "        self.fc1     = nn.Linear(input_dim, hidden_size)    # 1st Full-Connected Layer: 1 (input data) -> # (hidden_size)\n",
    "        self.fcm     = nn.Linear(hidden_size, hidden_size)  # 2nd Full-Connected Layer: 2 (hidden_size) -> # (hidden node)\n",
    "        self.fcm2    = nn.Linear(hidden_size, hidden_size)  # 3rd Full-Connected Layer: 3 (hidden_size) -> # (hidden node)\n",
    "        self.fc2     = nn.Linear(hidden_size, output_dim)   # 4rd Full-Connected Layer: 4 (hidden node) -> 1 (output class)\n",
    "    \n",
    "    # Forward pass: stacking each layer together\n",
    "    def forward(self, x):                              \n",
    "        out = self.fc1(x)\n",
    "        out = self.sigmoid(out)\n",
    "        out = self.fcm(out)\n",
    "        out = self.sigmoid(out)\n",
    "        out = self.fcm2(out)\n",
    "        out = self.sigmoid(out)\n",
    "        out = self.fc2(out)\n",
    "        out = self.sigmoid(out)\n",
    "        return out"
   ]
  },
  {
   "cell_type": "markdown",
   "metadata": {},
   "source": [
    "<br><br> Now, just as we did before, let's train the models using the `train_model` and `eval_model` functions we wrote earlier:"
   ]
  },
  {
   "cell_type": "code",
   "execution_count": 14,
   "metadata": {},
   "outputs": [],
   "source": [
    "#------------------------------------------------\n",
    "# Define model hyperparamters \n",
    "#------------------------------------------------\n",
    "hyperparams = {}\n",
    "hyperparams['input_dim']      = 1             # Number of columns in the input data 'x'\n",
    "hyperparams['output_dim']     = 1             # Number of targets you want to predict 'y'\n",
    "hyperparams['random_seed']    = 5           # Random seed - this will impact initial weights.\n",
    "hyperparams['loss_function']  = nn.BCELoss()  # loss function  (Binary Cross Entropy Loss = BCELoss )\n",
    "hyperparams['learning_rate']  = 0.1          # learning rate for the optimizer\n",
    "hyperparams['epochs']         = 15000         # number of runs over the training data\n",
    "\n",
    "#------------------------------------------------\n",
    "# Train a Logistic Regression\n",
    "#------------------------------------------------\n",
    "torch.manual_seed(hyperparams['random_seed'])\n",
    "model            = LogisticRegression(hyperparams['input_dim'], hyperparams['output_dim'])\n",
    "model, losses    = train_model( model, x, y, hyperparams)\n",
    "accuracy1        = eval_model(  model, x, y, hyperparams)\n",
    "\n",
    "#------------------------------------------------\n",
    "# Train a Shallownet\n",
    "#------------------------------------------------\n",
    "torch.manual_seed(hyperparams['random_seed'])\n",
    "model            = ShallowNet(hyperparams['input_dim'], 2, hyperparams['output_dim'])\n",
    "model, losses2   = train_model( model, x, y, hyperparams)\n",
    "accuracy2        = eval_model(  model, x, y, hyperparams)"
   ]
  },
  {
   "cell_type": "markdown",
   "metadata": {},
   "source": [
    "<br><br> And finally, let's compare the fit of the two models according to their loss"
   ]
  },
  {
   "cell_type": "code",
   "execution_count": 15,
   "metadata": {},
   "outputs": [
    {
     "data": {
      "image/png": "[encoded data removed]",
      "text/plain": [
       "<Figure size 1152x432 with 1 Axes>"
      ]
     },
     "metadata": {
      "needs_background": "light"
     },
     "output_type": "display_data"
    }
   ],
   "source": [
    "plt.figure(figsize = (16,6))\n",
    "#------------------------------------------------\n",
    "# Plot the performance\n",
    "#------------------------------------------------\n",
    "plt.plot(losses,  label='Logistic Regression; accuracy: ' + str(accuracy1 * 100)[0:5] + '%')\n",
    "plt.plot(losses2, label='Neural Network; accuracy: ' + str(accuracy2 * 100) + '%')\n",
    "plt.xlabel('epochs of training'); plt.ylabel('loss')\n",
    "plt.title('Comparing Logistic Regression to a Neural Network ')\n",
    "plt.legend()\n",
    "plt.show()"
   ]
  },
  {
   "cell_type": "markdown",
   "metadata": {},
   "source": [
    "<br><br> Notice that for the first 5,000 or so epochs, the loss of the `LogisticRegression` and the `ShallowNet` are almost identical. It's not until much later in the training process that the network finally pulls ahead. \n",
    "\n",
    "The reason for this behavior is because, unlike the logistic regression, the loss function of the nural network is no longer that smooth grid we saw earlier in the tutorial; indeed, the relationship between the loss and paramters for the neural net is more like a mountain range - there are many peaks and valley in the loss with respect to the parameter values. \n",
    "\n",
    "The consequence of this non-convex loss function is that the network may spend a lot of time descending into a long valley with a lower gradient or may even fail to converge to a good solution if the the initialization of it's paramters were unlucky. Let's demonstrate this by running the exact same function, but only changing the value of the random number generator:"
   ]
  },
  {
   "cell_type": "code",
   "execution_count": 17,
   "metadata": {},
   "outputs": [
    {
     "data": {
      "image/png": "[encoded data removed]",
      "text/plain": [
       "<Figure size 1152x432 with 1 Axes>"
      ]
     },
     "metadata": {
      "needs_background": "light"
     },
     "output_type": "display_data"
    }
   ],
   "source": [
    "#------------------------------------------------\n",
    "# Define model hyperparamters \n",
    "#------------------------------------------------\n",
    "hyperparams['random_seed']    = 99             # Random seed - this will impact initial weights.\n",
    "\n",
    "#------------------------------------------------\n",
    "# Train a Logistic Regression\n",
    "#------------------------------------------------\n",
    "torch.manual_seed(hyperparams['random_seed'])\n",
    "model            = LogisticRegression(hyperparams['input_dim'], hyperparams['output_dim'])\n",
    "model, losses    = train_model( model, x, y, hyperparams)\n",
    "accuracy1        = eval_model(  model, x, y, hyperparams)\n",
    "\n",
    "#------------------------------------------------\n",
    "# Train a Shallownet\n",
    "#------------------------------------------------\n",
    "torch.manual_seed(hyperparams['random_seed'])\n",
    "model            = ShallowNet(hyperparams['input_dim'], 2, hyperparams['output_dim'])\n",
    "model, losses2   = train_model( model, x, y, hyperparams)\n",
    "accuracy2        = eval_model(  model, x, y, hyperparams)\n",
    "\n",
    "plt.figure(figsize = (16,6))\n",
    "#------------------------------------------------\n",
    "# Plot the performance\n",
    "#------------------------------------------------\n",
    "plt.plot(losses,  label='Logistic Regression; accuracy: ' + str(accuracy1 * 100)[0:5] + '%')\n",
    "plt.plot(losses2, label='Neural Network; accuracy: ' + str(accuracy2 * 100) + '%')\n",
    "plt.xlabel('epochs of training'); plt.ylabel('loss')\n",
    "plt.title('Comparing Logistic Regression to a Neural Network ')\n",
    "plt.legend()\n",
    "plt.show()"
   ]
  },
  {
   "cell_type": "markdown",
   "metadata": {},
   "source": [
    "<br><br> Do you see what I mean? The only thing that was changed between this run, and the previous example was the seed of the random number generator, which controls (among other things) the initial point from which we will start our gradient descent! This is critical for you to see because if your network's loss is not decreasing beyond that of a simple model (such as a logistic regression), it provides evidence of an unlucky starting position, or some other hyper-paramter issue. In practice, the way that you overcome this is by simply testing many settings of the hyper-parmaters, just like we did in part 1 of the tutorial when we were training the ElasticNet regularized logistic regression! "
   ]
  },
  {
   "cell_type": "markdown",
   "metadata": {},
   "source": [
    "<hr> \n",
    "\n",
    "## Learning Exercise 3: \n",
    "#### Worth 2/5 Points\n",
    "#### A. Specify A Neural Classification Model\n",
    "Using Pytorch, specify a neural network model that will map a sparse bag-of-words representation of the Rotton Tomatoes Movie Review Dataset from part 1 of the tutorial to the probability of the movie review being positive. It's up to you to choose the number of layers and the number of nodes; just recall that **deeper** networks are more flexible, but also trickier to train because their loss functions become more complex. The examples in the tutorial should be enough to accomplish this task, but [this online example](https://pytorch.org/tutorials/beginner/nlp/deep_learning_tutorial.html) might also be helpful."
   ]
  },
  {
   "cell_type": "code",
   "execution_count": 28,
   "metadata": {},
   "outputs": [],
   "source": [
    "################################################################################\n",
    "# INSERT YOUR CODE HERE\n",
    "# DO NOT FORGET TO DISCUSS YOUR RESULTS\n",
    "################################################################################"
   ]
  },
  {
   "cell_type": "markdown",
   "metadata": {},
   "source": [
    "<span style=\"color:red\"> INSERT AN INTERPRETATION OF YOUR RESULTS HERE </span>"
   ]
  },
  {
   "cell_type": "markdown",
   "metadata": {},
   "source": [
    "#### B. Train and Evaluate the Model\n",
    "Train your Neural network on the `dataset['train']` partition of the data. At every epoch, evaluate the loss of the model on the `dataset['validation']`, `dataset['train']` and `dataset['test']`. Create a plot that compares the loss of the model on the three partitions and comment on any differences or trends you observe; Note that you may need to experiment with several settings of the hyper-paramters to get your model to fit effectively.\n"
   ]
  },
  {
   "cell_type": "code",
   "execution_count": null,
   "metadata": {},
   "outputs": [],
   "source": [
    "from datasets import load_dataset\n",
    "# Importing the Rotton Tomatoes Movie review dataset\n",
    "dataset = load_dataset('rotten_tomatoes')\n",
    "\n",
    "################################################################################\n",
    "# INSERT YOUR CODE HERE\n",
    "# DO NOT FORGET TO DISCUSS YOUR RESULTS\n",
    "################################################################################"
   ]
  },
  {
   "cell_type": "markdown",
   "metadata": {},
   "source": [
    "<span style=\"color:red\"> INSERT AN INTERPRETATION OF YOUR RESULTS HERE </span>"
   ]
  },
  {
   "cell_type": "markdown",
   "metadata": {},
   "source": [
    "<h1><span style=\"color:red\"> Self Assessment </span></h1>\n",
    "Please provide an ssessment of how successfully you accomplished the learning exercises in this assignment according to the instruction provided; do not assign youself points for effort. This self assessment will be used as a starting point when I grade your assignments. Please note that if you over-estimate your grade on a given learning exercise, you will face a 50% penalty on the total points granted for that exercise. If you underestimate your grade, there will be no penalty.\n",
    "\n",
    "* Learning Exercise: \n",
    "    * <span style=\"color:red\">X</span>/2 points"
   ]
  }
 ],
 "metadata": {
  "kernelspec": {
   "display_name": "Python 3",
   "language": "python",
   "name": "python3"
  },
  "language_info": {
   "codemirror_mode": {
    "name": "ipython",
    "version": 3
   },
   "file_extension": ".py",
   "mimetype": "text/x-python",
   "name": "python",
   "nbconvert_exporter": "python",
   "pygments_lexer": "ipython3",
   "version": "3.7.3"
  }
 },
 "nbformat": 4,
 "nbformat_minor": 4
}
